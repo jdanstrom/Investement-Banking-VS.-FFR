{
 "cells": [
  {
   "cell_type": "code",
   "execution_count": 1,
   "id": "0c024d86",
   "metadata": {},
   "outputs": [],
   "source": [
    "import pandas as pd\n",
    "import numpy as np\n",
    "import seaborn as sns\n",
    "import matplotlib.pyplot as plt\n",
    "import matplotlib.ticker as ticker\n",
    "#import yfinance as yf\n",
    "import datetime\n",
    "%matplotlib inline"
   ]
  },
  {
   "cell_type": "markdown",
   "id": "9beed97d",
   "metadata": {},
   "source": [
    "# ADD GS and MS to this model as well!"
   ]
  },
  {
   "cell_type": "markdown",
   "id": "b81f6fba",
   "metadata": {},
   "source": [
    "## Data Loading, Summarization & Early Vizualizations\n",
    "\n",
    "### FED Funds Data"
   ]
  },
  {
   "cell_type": "code",
   "execution_count": 2,
   "id": "779dddab",
   "metadata": {},
   "outputs": [
    {
     "data": {
      "text/html": [
       "<div>\n",
       "<style scoped>\n",
       "    .dataframe tbody tr th:only-of-type {\n",
       "        vertical-align: middle;\n",
       "    }\n",
       "\n",
       "    .dataframe tbody tr th {\n",
       "        vertical-align: top;\n",
       "    }\n",
       "\n",
       "    .dataframe thead th {\n",
       "        text-align: right;\n",
       "    }\n",
       "</style>\n",
       "<table border=\"1\" class=\"dataframe\">\n",
       "  <thead>\n",
       "    <tr style=\"text-align: right;\">\n",
       "      <th></th>\n",
       "      <th>DATE</th>\n",
       "      <th>FEDFUNDS</th>\n",
       "    </tr>\n",
       "  </thead>\n",
       "  <tbody>\n",
       "    <tr>\n",
       "      <th>0</th>\n",
       "      <td>1954-07-01</td>\n",
       "      <td>0.80</td>\n",
       "    </tr>\n",
       "    <tr>\n",
       "      <th>1</th>\n",
       "      <td>1954-08-01</td>\n",
       "      <td>1.22</td>\n",
       "    </tr>\n",
       "    <tr>\n",
       "      <th>2</th>\n",
       "      <td>1954-09-01</td>\n",
       "      <td>1.07</td>\n",
       "    </tr>\n",
       "    <tr>\n",
       "      <th>3</th>\n",
       "      <td>1954-10-01</td>\n",
       "      <td>0.85</td>\n",
       "    </tr>\n",
       "    <tr>\n",
       "      <th>4</th>\n",
       "      <td>1954-11-01</td>\n",
       "      <td>0.83</td>\n",
       "    </tr>\n",
       "  </tbody>\n",
       "</table>\n",
       "</div>"
      ],
      "text/plain": [
       "        DATE  FEDFUNDS\n",
       "0 1954-07-01      0.80\n",
       "1 1954-08-01      1.22\n",
       "2 1954-09-01      1.07\n",
       "3 1954-10-01      0.85\n",
       "4 1954-11-01      0.83"
      ]
     },
     "execution_count": 2,
     "metadata": {},
     "output_type": "execute_result"
    }
   ],
   "source": [
    "fedfunds = pd.read_csv(\"FEDFUNDS.csv\") # Initial Readin\n",
    "fedfunds['DATE'] = pd.to_datetime(fedfunds['DATE'],infer_datetime_format=True)# Converting Date column to pandas datetime\n",
    "fedfunds.head() # Summary of first six lines of the data"
   ]
  },
  {
   "cell_type": "code",
   "execution_count": 3,
   "id": "795a9c37",
   "metadata": {},
   "outputs": [
    {
     "name": "stdout",
     "output_type": "stream",
     "text": [
      "DATE        datetime64[ns]\n",
      "FEDFUNDS           float64\n",
      "dtype: object\n"
     ]
    }
   ],
   "source": [
    "fedfunds.describe() # Quick Summary of the Data\n",
    "print(fedfunds.dtypes) # Checking data Objects"
   ]
  },
  {
   "cell_type": "code",
   "execution_count": 4,
   "id": "6871c848",
   "metadata": {},
   "outputs": [
    {
     "name": "stdout",
     "output_type": "stream",
     "text": [
      " There are 824 rows of data.\n",
      " They dates range from 1954-07-01 to 2023-02-01 monthly.\n"
     ]
    }
   ],
   "source": [
    "print(' There are',len(fedfunds),'rows of data.\\n',\n",
    "     'They dates range from',fedfunds['DATE'][0].date(),'to',fedfunds['DATE'][len(fedfunds)-1].date(),'monthly.')"
   ]
  },
  {
   "cell_type": "code",
   "execution_count": 5,
   "id": "d8466ba4",
   "metadata": {},
   "outputs": [
    {
     "data": {
      "text/html": [
       "<div>\n",
       "<style scoped>\n",
       "    .dataframe tbody tr th:only-of-type {\n",
       "        vertical-align: middle;\n",
       "    }\n",
       "\n",
       "    .dataframe tbody tr th {\n",
       "        vertical-align: top;\n",
       "    }\n",
       "\n",
       "    .dataframe thead th {\n",
       "        text-align: right;\n",
       "    }\n",
       "</style>\n",
       "<table border=\"1\" class=\"dataframe\">\n",
       "  <thead>\n",
       "    <tr style=\"text-align: right;\">\n",
       "      <th></th>\n",
       "      <th>DATE</th>\n",
       "      <th>FEDFUNDS</th>\n",
       "      <th>year</th>\n",
       "    </tr>\n",
       "  </thead>\n",
       "  <tbody>\n",
       "    <tr>\n",
       "      <th>0</th>\n",
       "      <td>1954-07-01</td>\n",
       "      <td>0.80</td>\n",
       "      <td>1954</td>\n",
       "    </tr>\n",
       "    <tr>\n",
       "      <th>1</th>\n",
       "      <td>1954-08-01</td>\n",
       "      <td>1.22</td>\n",
       "      <td>1954</td>\n",
       "    </tr>\n",
       "    <tr>\n",
       "      <th>2</th>\n",
       "      <td>1954-09-01</td>\n",
       "      <td>1.07</td>\n",
       "      <td>1954</td>\n",
       "    </tr>\n",
       "    <tr>\n",
       "      <th>3</th>\n",
       "      <td>1954-10-01</td>\n",
       "      <td>0.85</td>\n",
       "      <td>1954</td>\n",
       "    </tr>\n",
       "    <tr>\n",
       "      <th>4</th>\n",
       "      <td>1954-11-01</td>\n",
       "      <td>0.83</td>\n",
       "      <td>1954</td>\n",
       "    </tr>\n",
       "  </tbody>\n",
       "</table>\n",
       "</div>"
      ],
      "text/plain": [
       "        DATE  FEDFUNDS  year\n",
       "0 1954-07-01      0.80  1954\n",
       "1 1954-08-01      1.22  1954\n",
       "2 1954-09-01      1.07  1954\n",
       "3 1954-10-01      0.85  1954\n",
       "4 1954-11-01      0.83  1954"
      ]
     },
     "execution_count": 5,
     "metadata": {},
     "output_type": "execute_result"
    }
   ],
   "source": [
    "#Getting column for just years\n",
    "fedfunds['year'] = fedfunds['DATE'].dt.year # Adding new column to just show year for plotting long term purposes\n",
    "fedfunds.head() # Display"
   ]
  },
  {
   "cell_type": "code",
   "execution_count": 6,
   "id": "46301e7d",
   "metadata": {},
   "outputs": [
    {
     "data": {
      "image/png": "[encoded data removed]",
      "text/plain": [
       "<Figure size 640x480 with 1 Axes>"
      ]
     },
     "metadata": {},
     "output_type": "display_data"
    }
   ],
   "source": [
    "sns.set_theme(style='dark') # Theme\n",
    "sns.lineplot(x=fedfunds['year'],y=fedfunds['FEDFUNDS']) # Plotting object\n",
    "plt.grid()"
   ]
  },
  {
   "cell_type": "markdown",
   "id": "bf8e4f5c",
   "metadata": {},
   "source": [
    "### Investment Banking Market Data"
   ]
  },
  {
   "cell_type": "code",
   "execution_count": 7,
   "id": "7526b552",
   "metadata": {},
   "outputs": [],
   "source": [
    "# Reading in all of the bank data\n",
    "jp = pd.read_csv(\"JPC_historical.csv\")\n",
    "c = pd.read_csv(\"C_historical.csv\")\n",
    "wfc = pd.read_csv(\"wfc_historical.csv\")\n",
    "bac = pd.read_csv(\"BAC_historical.csv\")\n",
    "usb = pd.read_csv(\"USB_historical.csv\")"
   ]
  },
  {
   "cell_type": "code",
   "execution_count": 8,
   "id": "92aae944",
   "metadata": {},
   "outputs": [
    {
     "data": {
      "text/plain": [
       "Date          datetime64[ns]\n",
       "Close/Last            object\n",
       "Volume                 int64\n",
       "Open                  object\n",
       "High                  object\n",
       "Low                   object\n",
       "dtype: object"
      ]
     },
     "execution_count": 8,
     "metadata": {},
     "output_type": "execute_result"
    }
   ],
   "source": [
    "# Banks\n",
    "c['Date'] = pd.to_datetime(c['Date'])\n",
    "wfc['Date'] = pd.to_datetime(wfc['Date'])\n",
    "bac['Date'] = pd.to_datetime(bac['Date'])\n",
    "usb['Date'] = pd.to_datetime(usb['Date'])\n",
    "jp['Date'] = pd.to_datetime(jp['Date'])\n",
    " # Checking the Data Types\n",
    "jp.dtypes"
   ]
  },
  {
   "cell_type": "code",
   "execution_count": 9,
   "id": "c2c5893e",
   "metadata": {},
   "outputs": [],
   "source": [
    "# JPMorgan\n",
    "jp[jp.columns[1]] = jp[jp.columns[1]].replace('[\\$,]', '', regex=True).astype(float) # Converting Columns to usable numbers\n",
    "jp[jp.columns[3:]] = jp[jp.columns[3:]].replace('[\\$,]', '', regex=True).astype(float) # Remaining Columns Conversion\n",
    "# Wells Fargo\n",
    "wfc[wfc.columns[1]] = wfc[wfc.columns[1]].replace('[\\$,]', '', regex=True).astype(float) # Converting Columns to usable numbers\n",
    "wfc[wfc.columns[3:]] = wfc[wfc.columns[3:]].replace('[\\$,]', '', regex=True).astype(float)\n",
    "# Citi Bank\n",
    "c[c.columns[1]] = c[c.columns[1]].replace('[\\$,]', '', regex=True).astype(float) # Converting Columns to usable numbers\n",
    "c[c.columns[3:]] = c[c.columns[3:]].replace('[\\$,]', '', regex=True).astype(float)\n",
    "# Bank of America\n",
    "bac[bac.columns[1]] = bac[bac.columns[1]].replace('[\\$,]', '', regex=True).astype(float) # Converting Columns to usable numbers\n",
    "bac[bac.columns[3:]] = bac[bac.columns[3:]].replace('[\\$,]', '', regex=True).astype(float)\n",
    "# U.S. Bancorp\n",
    "usb[usb.columns[1]] = usb[usb.columns[1]].replace('[\\$,]', '', regex=True).astype(float) # Converting Columns to usable numbers\n",
    "usb[usb.columns[3:]] = usb[usb.columns[3:]].replace('[\\$,]', '', regex=True).astype(float)"
   ]
  },
  {
   "cell_type": "code",
   "execution_count": 10,
   "id": "7403e783",
   "metadata": {},
   "outputs": [
    {
     "data": {
      "text/plain": [
       "Date          datetime64[ns]\n",
       "Close/Last           float64\n",
       "Volume                 int64\n",
       "Open                 float64\n",
       "High                 float64\n",
       "Low                  float64\n",
       "dtype: object"
      ]
     },
     "execution_count": 10,
     "metadata": {},
     "output_type": "execute_result"
    }
   ],
   "source": [
    "jp.dtypes # Rechecking the columns"
   ]
  },
  {
   "cell_type": "markdown",
   "id": "c979ddea",
   "metadata": {},
   "source": [
    "#### JP MORGAN CHASE"
   ]
  },
  {
   "cell_type": "code",
   "execution_count": 11,
   "id": "99762385",
   "metadata": {},
   "outputs": [
    {
     "data": {
      "text/html": [
       "<div>\n",
       "<style scoped>\n",
       "    .dataframe tbody tr th:only-of-type {\n",
       "        vertical-align: middle;\n",
       "    }\n",
       "\n",
       "    .dataframe tbody tr th {\n",
       "        vertical-align: top;\n",
       "    }\n",
       "\n",
       "    .dataframe thead th {\n",
       "        text-align: right;\n",
       "    }\n",
       "</style>\n",
       "<table border=\"1\" class=\"dataframe\">\n",
       "  <thead>\n",
       "    <tr style=\"text-align: right;\">\n",
       "      <th></th>\n",
       "      <th>Close/Last</th>\n",
       "      <th>Volume</th>\n",
       "      <th>Open</th>\n",
       "      <th>High</th>\n",
       "      <th>Low</th>\n",
       "    </tr>\n",
       "  </thead>\n",
       "  <tbody>\n",
       "    <tr>\n",
       "      <th>count</th>\n",
       "      <td>250.00</td>\n",
       "      <td>250.00</td>\n",
       "      <td>250.00</td>\n",
       "      <td>250.00</td>\n",
       "      <td>250.00</td>\n",
       "    </tr>\n",
       "    <tr>\n",
       "      <th>mean</th>\n",
       "      <td>125.94</td>\n",
       "      <td>12332838.00</td>\n",
       "      <td>125.87</td>\n",
       "      <td>127.26</td>\n",
       "      <td>124.46</td>\n",
       "    </tr>\n",
       "    <tr>\n",
       "      <th>std</th>\n",
       "      <td>10.82</td>\n",
       "      <td>4388299.12</td>\n",
       "      <td>10.71</td>\n",
       "      <td>10.65</td>\n",
       "      <td>10.81</td>\n",
       "    </tr>\n",
       "    <tr>\n",
       "      <th>min</th>\n",
       "      <td>101.96</td>\n",
       "      <td>3220496.00</td>\n",
       "      <td>101.80</td>\n",
       "      <td>104.54</td>\n",
       "      <td>101.28</td>\n",
       "    </tr>\n",
       "    <tr>\n",
       "      <th>25%</th>\n",
       "      <td>115.82</td>\n",
       "      <td>9311279.00</td>\n",
       "      <td>116.00</td>\n",
       "      <td>117.30</td>\n",
       "      <td>114.66</td>\n",
       "    </tr>\n",
       "    <tr>\n",
       "      <th>50%</th>\n",
       "      <td>127.15</td>\n",
       "      <td>11511325.00</td>\n",
       "      <td>126.68</td>\n",
       "      <td>128.29</td>\n",
       "      <td>125.75</td>\n",
       "    </tr>\n",
       "    <tr>\n",
       "      <th>75%</th>\n",
       "      <td>135.07</td>\n",
       "      <td>14263320.00</td>\n",
       "      <td>134.77</td>\n",
       "      <td>135.72</td>\n",
       "      <td>133.50</td>\n",
       "    </tr>\n",
       "    <tr>\n",
       "      <th>max</th>\n",
       "      <td>143.80</td>\n",
       "      <td>33420140.00</td>\n",
       "      <td>143.35</td>\n",
       "      <td>144.34</td>\n",
       "      <td>142.28</td>\n",
       "    </tr>\n",
       "  </tbody>\n",
       "</table>\n",
       "</div>"
      ],
      "text/plain": [
       "       Close/Last       Volume    Open    High     Low\n",
       "count      250.00       250.00  250.00  250.00  250.00\n",
       "mean       125.94  12332838.00  125.87  127.26  124.46\n",
       "std         10.82   4388299.12   10.71   10.65   10.81\n",
       "min        101.96   3220496.00  101.80  104.54  101.28\n",
       "25%        115.82   9311279.00  116.00  117.30  114.66\n",
       "50%        127.15  11511325.00  126.68  128.29  125.75\n",
       "75%        135.07  14263320.00  134.77  135.72  133.50\n",
       "max        143.80  33420140.00  143.35  144.34  142.28"
      ]
     },
     "execution_count": 11,
     "metadata": {},
     "output_type": "execute_result"
    }
   ],
   "source": [
    "round(jp.describe(),2)"
   ]
  },
  {
   "cell_type": "markdown",
   "id": "a8561dc2",
   "metadata": {},
   "source": [
    "#### BANK OF AMERICA"
   ]
  },
  {
   "cell_type": "code",
   "execution_count": 12,
   "id": "467387a2",
   "metadata": {},
   "outputs": [
    {
     "data": {
      "text/html": [
       "<div>\n",
       "<style scoped>\n",
       "    .dataframe tbody tr th:only-of-type {\n",
       "        vertical-align: middle;\n",
       "    }\n",
       "\n",
       "    .dataframe tbody tr th {\n",
       "        vertical-align: top;\n",
       "    }\n",
       "\n",
       "    .dataframe thead th {\n",
       "        text-align: right;\n",
       "    }\n",
       "</style>\n",
       "<table border=\"1\" class=\"dataframe\">\n",
       "  <thead>\n",
       "    <tr style=\"text-align: right;\">\n",
       "      <th></th>\n",
       "      <th>Close/Last</th>\n",
       "      <th>Volume</th>\n",
       "      <th>Open</th>\n",
       "      <th>High</th>\n",
       "      <th>Low</th>\n",
       "    </tr>\n",
       "  </thead>\n",
       "  <tbody>\n",
       "    <tr>\n",
       "      <th>count</th>\n",
       "      <td>250.00</td>\n",
       "      <td>2.500000e+02</td>\n",
       "      <td>250.00</td>\n",
       "      <td>250.00</td>\n",
       "      <td>250.00</td>\n",
       "    </tr>\n",
       "    <tr>\n",
       "      <th>mean</th>\n",
       "      <td>35.21</td>\n",
       "      <td>4.314670e+07</td>\n",
       "      <td>35.23</td>\n",
       "      <td>35.66</td>\n",
       "      <td>34.78</td>\n",
       "    </tr>\n",
       "    <tr>\n",
       "      <th>std</th>\n",
       "      <td>2.99</td>\n",
       "      <td>1.424952e+07</td>\n",
       "      <td>3.05</td>\n",
       "      <td>3.04</td>\n",
       "      <td>2.99</td>\n",
       "    </tr>\n",
       "    <tr>\n",
       "      <th>min</th>\n",
       "      <td>29.77</td>\n",
       "      <td>1.611850e+07</td>\n",
       "      <td>29.41</td>\n",
       "      <td>30.22</td>\n",
       "      <td>29.31</td>\n",
       "    </tr>\n",
       "    <tr>\n",
       "      <th>25%</th>\n",
       "      <td>33.16</td>\n",
       "      <td>3.304278e+07</td>\n",
       "      <td>33.28</td>\n",
       "      <td>33.67</td>\n",
       "      <td>32.86</td>\n",
       "    </tr>\n",
       "    <tr>\n",
       "      <th>50%</th>\n",
       "      <td>34.76</td>\n",
       "      <td>4.048539e+07</td>\n",
       "      <td>34.75</td>\n",
       "      <td>35.21</td>\n",
       "      <td>34.28</td>\n",
       "    </tr>\n",
       "    <tr>\n",
       "      <th>75%</th>\n",
       "      <td>36.66</td>\n",
       "      <td>4.934548e+07</td>\n",
       "      <td>36.74</td>\n",
       "      <td>37.11</td>\n",
       "      <td>36.17</td>\n",
       "    </tr>\n",
       "    <tr>\n",
       "      <th>max</th>\n",
       "      <td>44.18</td>\n",
       "      <td>1.097790e+08</td>\n",
       "      <td>44.25</td>\n",
       "      <td>44.63</td>\n",
       "      <td>43.70</td>\n",
       "    </tr>\n",
       "  </tbody>\n",
       "</table>\n",
       "</div>"
      ],
      "text/plain": [
       "       Close/Last        Volume    Open    High     Low\n",
       "count      250.00  2.500000e+02  250.00  250.00  250.00\n",
       "mean        35.21  4.314670e+07   35.23   35.66   34.78\n",
       "std          2.99  1.424952e+07    3.05    3.04    2.99\n",
       "min         29.77  1.611850e+07   29.41   30.22   29.31\n",
       "25%         33.16  3.304278e+07   33.28   33.67   32.86\n",
       "50%         34.76  4.048539e+07   34.75   35.21   34.28\n",
       "75%         36.66  4.934548e+07   36.74   37.11   36.17\n",
       "max         44.18  1.097790e+08   44.25   44.63   43.70"
      ]
     },
     "execution_count": 12,
     "metadata": {},
     "output_type": "execute_result"
    }
   ],
   "source": [
    "round(bac.describe(),2)"
   ]
  },
  {
   "cell_type": "markdown",
   "id": "49377acb",
   "metadata": {},
   "source": [
    "#### WELLS FARGO"
   ]
  },
  {
   "cell_type": "code",
   "execution_count": 13,
   "id": "a63d97f8",
   "metadata": {},
   "outputs": [
    {
     "data": {
      "text/html": [
       "<div>\n",
       "<style scoped>\n",
       "    .dataframe tbody tr th:only-of-type {\n",
       "        vertical-align: middle;\n",
       "    }\n",
       "\n",
       "    .dataframe tbody tr th {\n",
       "        vertical-align: top;\n",
       "    }\n",
       "\n",
       "    .dataframe thead th {\n",
       "        text-align: right;\n",
       "    }\n",
       "</style>\n",
       "<table border=\"1\" class=\"dataframe\">\n",
       "  <thead>\n",
       "    <tr style=\"text-align: right;\">\n",
       "      <th></th>\n",
       "      <th>Close/Last</th>\n",
       "      <th>Volume</th>\n",
       "      <th>Open</th>\n",
       "      <th>High</th>\n",
       "      <th>Low</th>\n",
       "    </tr>\n",
       "  </thead>\n",
       "  <tbody>\n",
       "    <tr>\n",
       "      <th>count</th>\n",
       "      <td>250.00</td>\n",
       "      <td>250.00</td>\n",
       "      <td>250.00</td>\n",
       "      <td>250.00</td>\n",
       "      <td>250.00</td>\n",
       "    </tr>\n",
       "    <tr>\n",
       "      <th>mean</th>\n",
       "      <td>44.52</td>\n",
       "      <td>20508085.84</td>\n",
       "      <td>44.51</td>\n",
       "      <td>45.09</td>\n",
       "      <td>43.92</td>\n",
       "    </tr>\n",
       "    <tr>\n",
       "      <th>std</th>\n",
       "      <td>3.10</td>\n",
       "      <td>8698689.21</td>\n",
       "      <td>3.15</td>\n",
       "      <td>3.12</td>\n",
       "      <td>3.12</td>\n",
       "    </tr>\n",
       "    <tr>\n",
       "      <th>min</th>\n",
       "      <td>37.43</td>\n",
       "      <td>4913253.00</td>\n",
       "      <td>37.36</td>\n",
       "      <td>37.73</td>\n",
       "      <td>36.54</td>\n",
       "    </tr>\n",
       "    <tr>\n",
       "      <th>25%</th>\n",
       "      <td>42.52</td>\n",
       "      <td>14868847.50</td>\n",
       "      <td>42.54</td>\n",
       "      <td>43.06</td>\n",
       "      <td>42.10</td>\n",
       "    </tr>\n",
       "    <tr>\n",
       "      <th>50%</th>\n",
       "      <td>44.32</td>\n",
       "      <td>18614255.00</td>\n",
       "      <td>44.34</td>\n",
       "      <td>44.90</td>\n",
       "      <td>43.59</td>\n",
       "    </tr>\n",
       "    <tr>\n",
       "      <th>75%</th>\n",
       "      <td>46.73</td>\n",
       "      <td>24085150.00</td>\n",
       "      <td>46.67</td>\n",
       "      <td>47.08</td>\n",
       "      <td>46.14</td>\n",
       "    </tr>\n",
       "    <tr>\n",
       "      <th>max</th>\n",
       "      <td>53.39</td>\n",
       "      <td>65583240.00</td>\n",
       "      <td>53.06</td>\n",
       "      <td>54.20</td>\n",
       "      <td>52.30</td>\n",
       "    </tr>\n",
       "  </tbody>\n",
       "</table>\n",
       "</div>"
      ],
      "text/plain": [
       "       Close/Last       Volume    Open    High     Low\n",
       "count      250.00       250.00  250.00  250.00  250.00\n",
       "mean        44.52  20508085.84   44.51   45.09   43.92\n",
       "std          3.10   8698689.21    3.15    3.12    3.12\n",
       "min         37.43   4913253.00   37.36   37.73   36.54\n",
       "25%         42.52  14868847.50   42.54   43.06   42.10\n",
       "50%         44.32  18614255.00   44.34   44.90   43.59\n",
       "75%         46.73  24085150.00   46.67   47.08   46.14\n",
       "max         53.39  65583240.00   53.06   54.20   52.30"
      ]
     },
     "execution_count": 13,
     "metadata": {},
     "output_type": "execute_result"
    }
   ],
   "source": [
    "round(wfc.describe(),2)"
   ]
  },
  {
   "cell_type": "markdown",
   "id": "77fda68a",
   "metadata": {},
   "source": [
    "#### CITIGROUP"
   ]
  },
  {
   "cell_type": "code",
   "execution_count": 14,
   "id": "d0c9bf64",
   "metadata": {},
   "outputs": [
    {
     "data": {
      "text/html": [
       "<div>\n",
       "<style scoped>\n",
       "    .dataframe tbody tr th:only-of-type {\n",
       "        vertical-align: middle;\n",
       "    }\n",
       "\n",
       "    .dataframe tbody tr th {\n",
       "        vertical-align: top;\n",
       "    }\n",
       "\n",
       "    .dataframe thead th {\n",
       "        text-align: right;\n",
       "    }\n",
       "</style>\n",
       "<table border=\"1\" class=\"dataframe\">\n",
       "  <thead>\n",
       "    <tr style=\"text-align: right;\">\n",
       "      <th></th>\n",
       "      <th>Close/Last</th>\n",
       "      <th>Volume</th>\n",
       "      <th>Open</th>\n",
       "      <th>High</th>\n",
       "      <th>Low</th>\n",
       "    </tr>\n",
       "  </thead>\n",
       "  <tbody>\n",
       "    <tr>\n",
       "      <th>count</th>\n",
       "      <td>250.00</td>\n",
       "      <td>250.00</td>\n",
       "      <td>250.00</td>\n",
       "      <td>250.00</td>\n",
       "      <td>250.00</td>\n",
       "    </tr>\n",
       "    <tr>\n",
       "      <th>mean</th>\n",
       "      <td>49.21</td>\n",
       "      <td>20328642.74</td>\n",
       "      <td>49.20</td>\n",
       "      <td>49.83</td>\n",
       "      <td>48.57</td>\n",
       "    </tr>\n",
       "    <tr>\n",
       "      <th>std</th>\n",
       "      <td>3.62</td>\n",
       "      <td>7924687.74</td>\n",
       "      <td>3.64</td>\n",
       "      <td>3.64</td>\n",
       "      <td>3.62</td>\n",
       "    </tr>\n",
       "    <tr>\n",
       "      <th>min</th>\n",
       "      <td>40.45</td>\n",
       "      <td>6823564.00</td>\n",
       "      <td>40.20</td>\n",
       "      <td>41.36</td>\n",
       "      <td>40.01</td>\n",
       "    </tr>\n",
       "    <tr>\n",
       "      <th>25%</th>\n",
       "      <td>46.34</td>\n",
       "      <td>15256560.00</td>\n",
       "      <td>46.52</td>\n",
       "      <td>47.02</td>\n",
       "      <td>45.60</td>\n",
       "    </tr>\n",
       "    <tr>\n",
       "      <th>50%</th>\n",
       "      <td>49.68</td>\n",
       "      <td>19092890.00</td>\n",
       "      <td>49.72</td>\n",
       "      <td>50.26</td>\n",
       "      <td>48.86</td>\n",
       "    </tr>\n",
       "    <tr>\n",
       "      <th>75%</th>\n",
       "      <td>51.80</td>\n",
       "      <td>23640307.50</td>\n",
       "      <td>51.53</td>\n",
       "      <td>52.25</td>\n",
       "      <td>51.09</td>\n",
       "    </tr>\n",
       "    <tr>\n",
       "      <th>max</th>\n",
       "      <td>57.50</td>\n",
       "      <td>86566230.00</td>\n",
       "      <td>57.83</td>\n",
       "      <td>58.25</td>\n",
       "      <td>57.31</td>\n",
       "    </tr>\n",
       "  </tbody>\n",
       "</table>\n",
       "</div>"
      ],
      "text/plain": [
       "       Close/Last       Volume    Open    High     Low\n",
       "count      250.00       250.00  250.00  250.00  250.00\n",
       "mean        49.21  20328642.74   49.20   49.83   48.57\n",
       "std          3.62   7924687.74    3.64    3.64    3.62\n",
       "min         40.45   6823564.00   40.20   41.36   40.01\n",
       "25%         46.34  15256560.00   46.52   47.02   45.60\n",
       "50%         49.68  19092890.00   49.72   50.26   48.86\n",
       "75%         51.80  23640307.50   51.53   52.25   51.09\n",
       "max         57.50  86566230.00   57.83   58.25   57.31"
      ]
     },
     "execution_count": 14,
     "metadata": {},
     "output_type": "execute_result"
    }
   ],
   "source": [
    "round(c.describe(),2)"
   ]
  },
  {
   "cell_type": "markdown",
   "id": "114d6c40",
   "metadata": {},
   "source": [
    "#### U.S. BANCORP"
   ]
  },
  {
   "cell_type": "code",
   "execution_count": 15,
   "id": "57578679",
   "metadata": {},
   "outputs": [
    {
     "data": {
      "text/html": [
       "<div>\n",
       "<style scoped>\n",
       "    .dataframe tbody tr th:only-of-type {\n",
       "        vertical-align: middle;\n",
       "    }\n",
       "\n",
       "    .dataframe tbody tr th {\n",
       "        vertical-align: top;\n",
       "    }\n",
       "\n",
       "    .dataframe thead th {\n",
       "        text-align: right;\n",
       "    }\n",
       "</style>\n",
       "<table border=\"1\" class=\"dataframe\">\n",
       "  <thead>\n",
       "    <tr style=\"text-align: right;\">\n",
       "      <th></th>\n",
       "      <th>Close/Last</th>\n",
       "      <th>Volume</th>\n",
       "      <th>Open</th>\n",
       "      <th>High</th>\n",
       "      <th>Low</th>\n",
       "    </tr>\n",
       "  </thead>\n",
       "  <tbody>\n",
       "    <tr>\n",
       "      <th>count</th>\n",
       "      <td>250.00</td>\n",
       "      <td>250.00</td>\n",
       "      <td>250.00</td>\n",
       "      <td>250.00</td>\n",
       "      <td>250.00</td>\n",
       "    </tr>\n",
       "    <tr>\n",
       "      <th>mean</th>\n",
       "      <td>47.23</td>\n",
       "      <td>8171047.56</td>\n",
       "      <td>47.26</td>\n",
       "      <td>47.77</td>\n",
       "      <td>46.69</td>\n",
       "    </tr>\n",
       "    <tr>\n",
       "      <th>std</th>\n",
       "      <td>3.91</td>\n",
       "      <td>3248609.43</td>\n",
       "      <td>3.97</td>\n",
       "      <td>3.97</td>\n",
       "      <td>3.90</td>\n",
       "    </tr>\n",
       "    <tr>\n",
       "      <th>min</th>\n",
       "      <td>38.79</td>\n",
       "      <td>2564603.00</td>\n",
       "      <td>38.59</td>\n",
       "      <td>39.48</td>\n",
       "      <td>38.39</td>\n",
       "    </tr>\n",
       "    <tr>\n",
       "      <th>25%</th>\n",
       "      <td>44.19</td>\n",
       "      <td>5946521.00</td>\n",
       "      <td>44.24</td>\n",
       "      <td>44.70</td>\n",
       "      <td>43.76</td>\n",
       "    </tr>\n",
       "    <tr>\n",
       "      <th>50%</th>\n",
       "      <td>47.11</td>\n",
       "      <td>7560470.50</td>\n",
       "      <td>47.14</td>\n",
       "      <td>47.69</td>\n",
       "      <td>46.65</td>\n",
       "    </tr>\n",
       "    <tr>\n",
       "      <th>75%</th>\n",
       "      <td>49.24</td>\n",
       "      <td>9457515.25</td>\n",
       "      <td>49.26</td>\n",
       "      <td>49.78</td>\n",
       "      <td>48.65</td>\n",
       "    </tr>\n",
       "    <tr>\n",
       "      <th>max</th>\n",
       "      <td>57.12</td>\n",
       "      <td>21456460.00</td>\n",
       "      <td>57.70</td>\n",
       "      <td>57.92</td>\n",
       "      <td>56.76</td>\n",
       "    </tr>\n",
       "  </tbody>\n",
       "</table>\n",
       "</div>"
      ],
      "text/plain": [
       "       Close/Last       Volume    Open    High     Low\n",
       "count      250.00       250.00  250.00  250.00  250.00\n",
       "mean        47.23   8171047.56   47.26   47.77   46.69\n",
       "std          3.91   3248609.43    3.97    3.97    3.90\n",
       "min         38.79   2564603.00   38.59   39.48   38.39\n",
       "25%         44.19   5946521.00   44.24   44.70   43.76\n",
       "50%         47.11   7560470.50   47.14   47.69   46.65\n",
       "75%         49.24   9457515.25   49.26   49.78   48.65\n",
       "max         57.12  21456460.00   57.70   57.92   56.76"
      ]
     },
     "execution_count": 15,
     "metadata": {},
     "output_type": "execute_result"
    }
   ],
   "source": [
    "round(usb.describe(),2)"
   ]
  },
  {
   "cell_type": "markdown",
   "id": "bdc1edd1",
   "metadata": {},
   "source": [
    "There are 250 rows of data representing the days in past year that the market was open."
   ]
  },
  {
   "cell_type": "code",
   "execution_count": 16,
   "id": "28f5b9d8",
   "metadata": {},
   "outputs": [
    {
     "data": {
      "text/plain": [
       "<Figure size 640x480 with 0 Axes>"
      ]
     },
     "execution_count": 16,
     "metadata": {},
     "output_type": "execute_result"
    },
    {
     "data": {
      "image/png": "[encoded data removed]",
      "text/plain": [
       "<Figure size 640x480 with 1 Axes>"
      ]
     },
     "metadata": {},
     "output_type": "display_data"
    },
    {
     "data": {
      "text/plain": [
       "<Figure size 640x480 with 0 Axes>"
      ]
     },
     "metadata": {},
     "output_type": "display_data"
    }
   ],
   "source": [
    "sns.set_theme(style='dark')\n",
    "#JP MORGAN\n",
    "sns.lineplot(x ='Date',y = 'Close/Last',data=jp,lw=1)\n",
    "sns.lineplot(x ='Date',y = 'Close/Last',data=bac,lw=1)\n",
    "sns.lineplot(x ='Date',y = 'Close/Last',data=c,lw=1)\n",
    "sns.lineplot(x ='Date',y = 'Close/Last',data=wfc,lw=1)\n",
    "sns.lineplot(x ='Date',y = 'Close/Last',data=usb,lw=1)\n",
    "plt.title('SHARE PRICES OVER LAST YEAR')\n",
    "plt.xticks(rotation=45)\n",
    "plt.grid()\n",
    "plt.legend(['JP MORGAN CHASE','BANK of AMERICA','CITICORP','WELLS FARGO','USB'])\n",
    "plt.figure()"
   ]
  },
  {
   "cell_type": "markdown",
   "id": "94f04ec3",
   "metadata": {},
   "source": [
    "## Data Preprocessing"
   ]
  },
  {
   "cell_type": "code",
   "execution_count": 17,
   "id": "a892dc73",
   "metadata": {},
   "outputs": [],
   "source": [
    "# Getting Last Twelve Months from the FEDFUNDS dataset\n",
    "ff1y = pd.DataFrame(fedfunds[-12:]).reset_index()\n",
    "ff1y['month'] = ff1y['DATE'].dt.strftime(\"%Y-%m\")\n",
    "# Adding new column representing months to add the FFR to the JP dataset\n",
    "jp['month'] = jp['Date'].dt.strftime(\"%Y-%m\")\n",
    "bac['month'] = bac['Date'].dt.strftime(\"%Y-%m\")\n",
    "wfc['month'] = wfc['Date'].dt.strftime(\"%Y-%m\")\n",
    "c['month'] = c['Date'].dt.strftime(\"%Y-%m\")\n",
    "usb['month'] = usb['Date'].dt.strftime(\"%Y-%m\")"
   ]
  },
  {
   "cell_type": "code",
   "execution_count": 18,
   "id": "30711c3c",
   "metadata": {},
   "outputs": [
    {
     "data": {
      "text/html": [
       "<div>\n",
       "<style scoped>\n",
       "    .dataframe tbody tr th:only-of-type {\n",
       "        vertical-align: middle;\n",
       "    }\n",
       "\n",
       "    .dataframe tbody tr th {\n",
       "        vertical-align: top;\n",
       "    }\n",
       "\n",
       "    .dataframe thead th {\n",
       "        text-align: right;\n",
       "    }\n",
       "</style>\n",
       "<table border=\"1\" class=\"dataframe\">\n",
       "  <thead>\n",
       "    <tr style=\"text-align: right;\">\n",
       "      <th></th>\n",
       "      <th>Date</th>\n",
       "      <th>Close/Last</th>\n",
       "      <th>Volume</th>\n",
       "      <th>Open</th>\n",
       "      <th>High</th>\n",
       "      <th>Low</th>\n",
       "      <th>month</th>\n",
       "    </tr>\n",
       "  </thead>\n",
       "  <tbody>\n",
       "    <tr>\n",
       "      <th>0</th>\n",
       "      <td>2023-03-03</td>\n",
       "      <td>143.66</td>\n",
       "      <td>9513063</td>\n",
       "      <td>141.51</td>\n",
       "      <td>143.7400</td>\n",
       "      <td>141.0800</td>\n",
       "      <td>2023-03</td>\n",
       "    </tr>\n",
       "    <tr>\n",
       "      <th>1</th>\n",
       "      <td>2023-03-02</td>\n",
       "      <td>141.07</td>\n",
       "      <td>11107550</td>\n",
       "      <td>142.24</td>\n",
       "      <td>142.4300</td>\n",
       "      <td>139.5400</td>\n",
       "      <td>2023-03</td>\n",
       "    </tr>\n",
       "    <tr>\n",
       "      <th>2</th>\n",
       "      <td>2023-03-01</td>\n",
       "      <td>142.55</td>\n",
       "      <td>7139155</td>\n",
       "      <td>142.10</td>\n",
       "      <td>143.4583</td>\n",
       "      <td>141.8000</td>\n",
       "      <td>2023-03</td>\n",
       "    </tr>\n",
       "    <tr>\n",
       "      <th>3</th>\n",
       "      <td>2023-02-28</td>\n",
       "      <td>143.35</td>\n",
       "      <td>11019760</td>\n",
       "      <td>142.94</td>\n",
       "      <td>143.7600</td>\n",
       "      <td>141.9001</td>\n",
       "      <td>2023-02</td>\n",
       "    </tr>\n",
       "    <tr>\n",
       "      <th>4</th>\n",
       "      <td>2023-02-27</td>\n",
       "      <td>142.16</td>\n",
       "      <td>10014650</td>\n",
       "      <td>142.11</td>\n",
       "      <td>143.3100</td>\n",
       "      <td>141.7201</td>\n",
       "      <td>2023-02</td>\n",
       "    </tr>\n",
       "  </tbody>\n",
       "</table>\n",
       "</div>"
      ],
      "text/plain": [
       "        Date  Close/Last    Volume    Open      High       Low    month\n",
       "0 2023-03-03      143.66   9513063  141.51  143.7400  141.0800  2023-03\n",
       "1 2023-03-02      141.07  11107550  142.24  142.4300  139.5400  2023-03\n",
       "2 2023-03-01      142.55   7139155  142.10  143.4583  141.8000  2023-03\n",
       "3 2023-02-28      143.35  11019760  142.94  143.7600  141.9001  2023-02\n",
       "4 2023-02-27      142.16  10014650  142.11  143.3100  141.7201  2023-02"
      ]
     },
     "execution_count": 18,
     "metadata": {},
     "output_type": "execute_result"
    }
   ],
   "source": [
    "jp.head() # New column \"month\" is added"
   ]
  },
  {
   "cell_type": "code",
   "execution_count": 19,
   "id": "c3b12619",
   "metadata": {},
   "outputs": [
    {
     "data": {
      "text/html": [
       "<div>\n",
       "<style scoped>\n",
       "    .dataframe tbody tr th:only-of-type {\n",
       "        vertical-align: middle;\n",
       "    }\n",
       "\n",
       "    .dataframe tbody tr th {\n",
       "        vertical-align: top;\n",
       "    }\n",
       "\n",
       "    .dataframe thead th {\n",
       "        text-align: right;\n",
       "    }\n",
       "</style>\n",
       "<table border=\"1\" class=\"dataframe\">\n",
       "  <thead>\n",
       "    <tr style=\"text-align: right;\">\n",
       "      <th></th>\n",
       "      <th>DATE</th>\n",
       "      <th>FEDFUNDS</th>\n",
       "      <th>year</th>\n",
       "      <th>month</th>\n",
       "    </tr>\n",
       "  </thead>\n",
       "  <tbody>\n",
       "    <tr>\n",
       "      <th>0</th>\n",
       "      <td>2022-03-01</td>\n",
       "      <td>0.20</td>\n",
       "      <td>2022</td>\n",
       "      <td>2022-03</td>\n",
       "    </tr>\n",
       "    <tr>\n",
       "      <th>1</th>\n",
       "      <td>2022-04-01</td>\n",
       "      <td>0.33</td>\n",
       "      <td>2022</td>\n",
       "      <td>2022-04</td>\n",
       "    </tr>\n",
       "    <tr>\n",
       "      <th>2</th>\n",
       "      <td>2022-05-01</td>\n",
       "      <td>0.77</td>\n",
       "      <td>2022</td>\n",
       "      <td>2022-05</td>\n",
       "    </tr>\n",
       "    <tr>\n",
       "      <th>3</th>\n",
       "      <td>2022-06-01</td>\n",
       "      <td>1.21</td>\n",
       "      <td>2022</td>\n",
       "      <td>2022-06</td>\n",
       "    </tr>\n",
       "    <tr>\n",
       "      <th>4</th>\n",
       "      <td>2022-07-01</td>\n",
       "      <td>1.68</td>\n",
       "      <td>2022</td>\n",
       "      <td>2022-07</td>\n",
       "    </tr>\n",
       "  </tbody>\n",
       "</table>\n",
       "</div>"
      ],
      "text/plain": [
       "        DATE  FEDFUNDS  year    month\n",
       "0 2022-03-01      0.20  2022  2022-03\n",
       "1 2022-04-01      0.33  2022  2022-04\n",
       "2 2022-05-01      0.77  2022  2022-05\n",
       "3 2022-06-01      1.21  2022  2022-06\n",
       "4 2022-07-01      1.68  2022  2022-07"
      ]
     },
     "execution_count": 19,
     "metadata": {},
     "output_type": "execute_result"
    }
   ],
   "source": [
    "ff1y = ff1y.drop('index',axis=1) # dropping original index\n",
    "ff1y.head() # Displaying new index"
   ]
  },
  {
   "cell_type": "code",
   "execution_count": 20,
   "id": "70c2d2f4",
   "metadata": {},
   "outputs": [
    {
     "data": {
      "text/plain": [
       "True"
      ]
     },
     "execution_count": 20,
     "metadata": {},
     "output_type": "execute_result"
    }
   ],
   "source": [
    "# Now there is a indexing key to map the FFRs from the past year without manual entry\n",
    "jp['month'][len(jp)-1] == ff1y['month'][0] "
   ]
  },
  {
   "cell_type": "code",
   "execution_count": 21,
   "id": "c569dc0d",
   "metadata": {},
   "outputs": [],
   "source": [
    "def dict_map_maker(map_df):\n",
    "    demo = map_df.iloc[:,[1,3]]\n",
    "    ffr_dict = {}\n",
    "    for i in range(len(demo)):\n",
    "        ffr_dict[demo['month'][i]] = demo['FEDFUNDS'][i]\n",
    "    #print(ffr_dict)\n",
    "    return ffr_dict\n",
    "\n",
    "def mapping_ffr(df,map_df):\n",
    "    map_df_dict = dict_map_maker(map_df)\n",
    "    df['FFR'] = df['month'].map(map_df_dict)\n",
    "    return df,map_df_dict"
   ]
  },
  {
   "cell_type": "code",
   "execution_count": 22,
   "id": "ed1694f0",
   "metadata": {},
   "outputs": [],
   "source": [
    "jp_analysis, ffr_dict = mapping_ffr(jp,ff1y)\n",
    "bac_analysis, _ = mapping_ffr(bac,ff1y)\n",
    "wfc_analysis, _  = mapping_ffr(wfc,ff1y)\n",
    "c_analysis, _ = mapping_ffr(c,ff1y)\n",
    "usb_analysis, _ = mapping_ffr(usb,ff1y)"
   ]
  },
  {
   "cell_type": "code",
   "execution_count": 23,
   "id": "647e1dbb",
   "metadata": {},
   "outputs": [
    {
     "name": "stdout",
     "output_type": "stream",
     "text": [
      "4.57\n"
     ]
    },
    {
     "data": {
      "text/html": [
       "<div>\n",
       "<style scoped>\n",
       "    .dataframe tbody tr th:only-of-type {\n",
       "        vertical-align: middle;\n",
       "    }\n",
       "\n",
       "    .dataframe tbody tr th {\n",
       "        vertical-align: top;\n",
       "    }\n",
       "\n",
       "    .dataframe thead th {\n",
       "        text-align: right;\n",
       "    }\n",
       "</style>\n",
       "<table border=\"1\" class=\"dataframe\">\n",
       "  <thead>\n",
       "    <tr style=\"text-align: right;\">\n",
       "      <th></th>\n",
       "      <th>Date</th>\n",
       "      <th>Close/Last</th>\n",
       "      <th>Volume</th>\n",
       "      <th>Open</th>\n",
       "      <th>High</th>\n",
       "      <th>Low</th>\n",
       "      <th>month</th>\n",
       "      <th>FFR</th>\n",
       "    </tr>\n",
       "  </thead>\n",
       "  <tbody>\n",
       "    <tr>\n",
       "      <th>0</th>\n",
       "      <td>2023-03-03</td>\n",
       "      <td>143.66</td>\n",
       "      <td>9513063</td>\n",
       "      <td>141.510</td>\n",
       "      <td>143.7400</td>\n",
       "      <td>141.0800</td>\n",
       "      <td>2023-03</td>\n",
       "      <td>4.57</td>\n",
       "    </tr>\n",
       "    <tr>\n",
       "      <th>1</th>\n",
       "      <td>2023-03-02</td>\n",
       "      <td>141.07</td>\n",
       "      <td>11107550</td>\n",
       "      <td>142.240</td>\n",
       "      <td>142.4300</td>\n",
       "      <td>139.5400</td>\n",
       "      <td>2023-03</td>\n",
       "      <td>4.57</td>\n",
       "    </tr>\n",
       "    <tr>\n",
       "      <th>2</th>\n",
       "      <td>2023-03-01</td>\n",
       "      <td>142.55</td>\n",
       "      <td>7139155</td>\n",
       "      <td>142.100</td>\n",
       "      <td>143.4583</td>\n",
       "      <td>141.8000</td>\n",
       "      <td>2023-03</td>\n",
       "      <td>4.57</td>\n",
       "    </tr>\n",
       "    <tr>\n",
       "      <th>3</th>\n",
       "      <td>2023-02-28</td>\n",
       "      <td>143.35</td>\n",
       "      <td>11019760</td>\n",
       "      <td>142.940</td>\n",
       "      <td>143.7600</td>\n",
       "      <td>141.9001</td>\n",
       "      <td>2023-02</td>\n",
       "      <td>4.57</td>\n",
       "    </tr>\n",
       "    <tr>\n",
       "      <th>4</th>\n",
       "      <td>2023-02-27</td>\n",
       "      <td>142.16</td>\n",
       "      <td>10014650</td>\n",
       "      <td>142.110</td>\n",
       "      <td>143.3100</td>\n",
       "      <td>141.7201</td>\n",
       "      <td>2023-02</td>\n",
       "      <td>4.57</td>\n",
       "    </tr>\n",
       "    <tr>\n",
       "      <th>...</th>\n",
       "      <td>...</td>\n",
       "      <td>...</td>\n",
       "      <td>...</td>\n",
       "      <td>...</td>\n",
       "      <td>...</td>\n",
       "      <td>...</td>\n",
       "      <td>...</td>\n",
       "      <td>...</td>\n",
       "    </tr>\n",
       "    <tr>\n",
       "      <th>245</th>\n",
       "      <td>2022-03-11</td>\n",
       "      <td>128.89</td>\n",
       "      <td>20061790</td>\n",
       "      <td>132.485</td>\n",
       "      <td>134.0800</td>\n",
       "      <td>128.4249</td>\n",
       "      <td>2022-03</td>\n",
       "      <td>0.20</td>\n",
       "    </tr>\n",
       "    <tr>\n",
       "      <th>246</th>\n",
       "      <td>2022-03-10</td>\n",
       "      <td>131.86</td>\n",
       "      <td>15604250</td>\n",
       "      <td>131.860</td>\n",
       "      <td>133.4500</td>\n",
       "      <td>130.3250</td>\n",
       "      <td>2022-03</td>\n",
       "      <td>0.20</td>\n",
       "    </tr>\n",
       "    <tr>\n",
       "      <th>247</th>\n",
       "      <td>2022-03-09</td>\n",
       "      <td>133.44</td>\n",
       "      <td>17536200</td>\n",
       "      <td>132.900</td>\n",
       "      <td>135.2400</td>\n",
       "      <td>132.4400</td>\n",
       "      <td>2022-03</td>\n",
       "      <td>0.20</td>\n",
       "    </tr>\n",
       "    <tr>\n",
       "      <th>248</th>\n",
       "      <td>2022-03-08</td>\n",
       "      <td>128.30</td>\n",
       "      <td>19207820</td>\n",
       "      <td>129.640</td>\n",
       "      <td>131.7900</td>\n",
       "      <td>127.2700</td>\n",
       "      <td>2022-03</td>\n",
       "      <td>0.20</td>\n",
       "    </tr>\n",
       "    <tr>\n",
       "      <th>249</th>\n",
       "      <td>2022-03-07</td>\n",
       "      <td>129.21</td>\n",
       "      <td>27560050</td>\n",
       "      <td>132.170</td>\n",
       "      <td>132.6900</td>\n",
       "      <td>128.9513</td>\n",
       "      <td>2022-03</td>\n",
       "      <td>0.20</td>\n",
       "    </tr>\n",
       "  </tbody>\n",
       "</table>\n",
       "<p>250 rows × 8 columns</p>\n",
       "</div>"
      ],
      "text/plain": [
       "          Date  Close/Last    Volume     Open      High       Low    month  \\\n",
       "0   2023-03-03      143.66   9513063  141.510  143.7400  141.0800  2023-03   \n",
       "1   2023-03-02      141.07  11107550  142.240  142.4300  139.5400  2023-03   \n",
       "2   2023-03-01      142.55   7139155  142.100  143.4583  141.8000  2023-03   \n",
       "3   2023-02-28      143.35  11019760  142.940  143.7600  141.9001  2023-02   \n",
       "4   2023-02-27      142.16  10014650  142.110  143.3100  141.7201  2023-02   \n",
       "..         ...         ...       ...      ...       ...       ...      ...   \n",
       "245 2022-03-11      128.89  20061790  132.485  134.0800  128.4249  2022-03   \n",
       "246 2022-03-10      131.86  15604250  131.860  133.4500  130.3250  2022-03   \n",
       "247 2022-03-09      133.44  17536200  132.900  135.2400  132.4400  2022-03   \n",
       "248 2022-03-08      128.30  19207820  129.640  131.7900  127.2700  2022-03   \n",
       "249 2022-03-07      129.21  27560050  132.170  132.6900  128.9513  2022-03   \n",
       "\n",
       "      FFR  \n",
       "0    4.57  \n",
       "1    4.57  \n",
       "2    4.57  \n",
       "3    4.57  \n",
       "4    4.57  \n",
       "..    ...  \n",
       "245  0.20  \n",
       "246  0.20  \n",
       "247  0.20  \n",
       "248  0.20  \n",
       "249  0.20  \n",
       "\n",
       "[250 rows x 8 columns]"
      ]
     },
     "execution_count": 23,
     "metadata": {},
     "output_type": "execute_result"
    }
   ],
   "source": [
    "last_rate = ffr_dict[list(ffr_dict.keys())[len(ffr_dict)-1]]\n",
    "print(last_rate)\n",
    "\n",
    "# Filling in the Na value incase rate for new month hasn't come out yet\n",
    "jp_analysis['FFR'] = jp_analysis['FFR'].fillna(last_rate)\n",
    "bac_analysis['FFR'] = bac_analysis['FFR'].fillna(last_rate)\n",
    "wfc_analysis['FFR'] = wfc_analysis['FFR'].fillna(last_rate)\n",
    "c_analysis['FFR'] = c_analysis['FFR'].fillna(last_rate)\n",
    "usb_analysis['FFR'] = usb_analysis['FFR'].fillna(last_rate)\n",
    "# Filling in the Na value incase rate for new month hasn't come out yet\n",
    "jp_analysis"
   ]
  },
  {
   "cell_type": "markdown",
   "id": "51444a8f",
   "metadata": {},
   "source": [
    "### Classifying Fed Fund Rates"
   ]
  },
  {
   "cell_type": "code",
   "execution_count": 24,
   "id": "6468dc37",
   "metadata": {},
   "outputs": [
    {
     "data": {
      "text/plain": [
       "count    250.000000\n",
       "mean       2.440920\n",
       "std        1.502711\n",
       "min        0.200000\n",
       "25%        1.210000\n",
       "50%        2.560000\n",
       "75%        4.020000\n",
       "max        4.570000\n",
       "Name: FFR, dtype: float64"
      ]
     },
     "execution_count": 24,
     "metadata": {},
     "output_type": "execute_result"
    }
   ],
   "source": [
    "jp_analysis['FFR'].describe()"
   ]
  },
  {
   "cell_type": "markdown",
   "id": "5654d92c",
   "metadata": {},
   "source": [
    "Within the past year the highest FFR was 4.54(Current). The lowest FFR was 0.2. The average FFR was 2.44920. For just one year we'll classify a higher rate as anything above the average FFR. There are two goals of this project. \n",
    "<ul>\n",
    "    <li>Predict the next FFR based on JPMorgan share trends.</li>\n",
    "    <li>Analyze how the JPMorgan Share data is effected by the FFR</li>"
   ]
  },
  {
   "cell_type": "markdown",
   "id": "9243c48a",
   "metadata": {},
   "source": [
    "### Early Analysis"
   ]
  },
  {
   "cell_type": "code",
   "execution_count": 25,
   "id": "3f7610c9",
   "metadata": {},
   "outputs": [
    {
     "data": {
      "image/png": "[encoded data removed]",
      "text/plain": [
       "<Figure size 640x480 with 1 Axes>"
      ]
     },
     "metadata": {},
     "output_type": "display_data"
    }
   ],
   "source": [
    "sns.lineplot(x= 'month',y='FEDFUNDS',data=ff1y)\n",
    "sns.scatterplot(x= 'month',y='FEDFUNDS',data=ff1y)\n",
    "plt.grid()\n",
    "plt.title('Fed Funds Effective Rate Over Last Year')\n",
    "plt.xticks(rotation=45)\n",
    "plt.show()"
   ]
  },
  {
   "cell_type": "code",
   "execution_count": 33,
   "id": "dc3e8ae8",
   "metadata": {},
   "outputs": [],
   "source": [
    "mask = fedfunds['year'] > 2019\n",
    "nffr = fedfunds[mask]\n",
    "nffr = nffr.reset_index()\n",
    "nffr = nffr.drop(['index'],axis=1)\n",
    "nffr['month'] = nffr['DATE'].dt.strftime(\"%Y-%m\")"
   ]
  },
  {
   "cell_type": "code",
   "execution_count": 36,
   "id": "4068f4ae",
   "metadata": {},
   "outputs": [
    {
     "data": {
      "image/png": "[encoded data removed]",
      "text/plain": [
       "<Figure size 640x480 with 1 Axes>"
      ]
     },
     "metadata": {},
     "output_type": "display_data"
    }
   ],
   "source": [
    "sns.lineplot(x='month',y='FEDFUNDS',data=nffr)\n",
    "sns.scatterplot(x= 'month',y='FEDFUNDS',data=nffr)\n",
    "plt.grid()\n",
    "plt.title('Fed Funds Effective Rate Over Last 3 Years')\n",
    "plt.xticks(rotation=90)\n",
    "plt.show()"
   ]
  },
  {
   "cell_type": "markdown",
   "id": "ea45e50e",
   "metadata": {},
   "source": [
    "### Prediction"
   ]
  },
  {
   "cell_type": "code",
   "execution_count": 180,
   "id": "e2ed59ec",
   "metadata": {},
   "outputs": [],
   "source": [
    "from sklearn.pipeline import Pipeline\n",
    "from sklearn.preprocessing import StandardScaler\n",
    "from sklearn.linear_model import LinearRegression\n",
    "from sklearn.svm import SVC\n",
    "from sklearn.model_selection import train_test_split\n",
    "from sklearn.linear_model import LogisticRegression\n",
    "from sklearn import tree\n",
    "from sklearn.gaussian_process import GaussianProcessClassifier\n",
    "from sklearn.neural_network import MLPClassifier"
   ]
  },
  {
   "cell_type": "code",
   "execution_count": 178,
   "id": "5eddab88",
   "metadata": {},
   "outputs": [],
   "source": [
    "def adding_high_low_class(df):\n",
    "    df['up/down'] = np.where(df['Close/Last']> df['Open'],1,0)\n",
    "    return df"
   ]
  },
  {
   "cell_type": "code",
   "execution_count": 179,
   "id": "5718d110",
   "metadata": {},
   "outputs": [],
   "source": [
    "# Adding classification col for if the stock was higher or lower for the day\n",
    "jp_analysis = adding_high_low_class(jp_analysis)\n",
    "bac_analysis = adding_high_low_class(bac_analysis)\n",
    "wfc_analysis = adding_high_low_class(wfc_analysis)\n",
    "c_analysis = adding_high_low_class(c_analysis)\n",
    "usb_analysis = adding_high_low_class(usb_analysis)\n",
    "temp = jp_analysis\n",
    "#temp.shift(0)"
   ]
  },
  {
   "cell_type": "code",
   "execution_count": 173,
   "id": "7b71acae",
   "metadata": {},
   "outputs": [],
   "source": [
    "def stock_prediction_dt(data, curr_open=0,volume_curr=0, today_high=0, today_low=0, curr_ffr=0):\n",
    "    #Only Use Current if you want to predict current\n",
    "    \n",
    "    #Spliting into Training and testing datasets\n",
    "    X_train, X_test, y_train, y_test = train_test_split(data.drop(['up/down','Close/Last','Date','month'],axis=1)\n",
    "    , data['up/down'], test_size=0.15, random_state=42)\n",
    "    \n",
    "    # Pipeline\n",
    "    clf = Pipeline([('scaler', StandardScaler()), ('Decision Tree', tree.DecisionTreeClassifier())]) # Decision Tree Classifier\n",
    "    \n",
    "    # Fitting the training data to the testing data\n",
    "    clf.fit(X_train, y_train)\n",
    "    \n",
    "    # Printing Accuracy of training set\n",
    "    print(\"Testing Accuracy:\",clf.score(X_test,y_test)*100)\n",
    "    \n",
    "    # If todays data was given will put it into format that can be predicted \n",
    "    today=pd.DataFrame(np.array([volume_curr,curr_open,today_high,today_low,curr_ffr]).reshape(-1,1))\n",
    "    if curr_open != 0:\n",
    "        if clf.predict(today.T)[0] == 1:\n",
    "            print(\"Based off of given data from today the stock will close above opening\")\n",
    "        else:\n",
    "            print(\"Based off of given data from today the stock will close below opening\")\n",
    "            \n",
    "    return clf\n",
    "\n",
    "def stock_prediction_lr(data, curr_open=0,volume_curr = 0, today_high=0, today_low=0, curr_ffr=0):\n",
    "    #Only Use Current if you want to predict current\n",
    "    \n",
    "    #Spliting into Training and testing datasets\n",
    "    X_train, X_test, y_train, y_test = train_test_split(data.drop(['up/down','Close/Last','Date','month'],axis=1)\n",
    "    , data['up/down'], test_size=0.15, random_state=42)\n",
    "    \n",
    "    # Pipeline\n",
    "    clf = Pipeline([('scaler', StandardScaler()), ('Decision Tree', LogisticRegression())]) # LinearClassifier\n",
    "    \n",
    "    # Fitting the training data to the testing data\n",
    "    clf.fit(X_train, y_train)\n",
    "    \n",
    "    # Printing Accuracy of training set\n",
    "    print(\"Testing Accuracy:\",clf.score(X_test,y_test)*100)\n",
    "    \n",
    "    # If todays data was given will put it into format that can be predicted \n",
    "    today=pd.DataFrame(np.array([volume_curr,curr_open,today_high,today_low,curr_ffr]).reshape(-1,1))\n",
    "    if curr_open != 0:\n",
    "        if clf.predict(today.T)[0] == 1:\n",
    "            print(\"Based off of given data from today the stock will close above opening\")\n",
    "        else:\n",
    "            print(\"Based off of given data from today the stock will close below opening\")\n",
    "            \n",
    "    return clf\n",
    "\n",
    "def stock_prediction_lm(data, curr_open=0,volume_curr = 0, today_high=0, today_low=0, curr_ffr=0):\n",
    "    #Only Use Current if you want to predict current\n",
    "    \n",
    "    #Spliting into Training and testing datasets\n",
    "    X_train, X_test, y_train, y_test = train_test_split(data.drop(['up/down','Close/Last','Date','month'],axis=1)\n",
    "    , data['up/down'], test_size=0.15, random_state=42)\n",
    "    \n",
    "    # Pipeline\n",
    "    clf = Pipeline([('scaler', StandardScaler()), ('Decision Tree', LinearRegression())]) # Linear Regression\n",
    "    \n",
    "    # Fitting the training data to the testing data\n",
    "    clf.fit(X_train, y_train)\n",
    "    \n",
    "    # Printing Accuracy of training set\n",
    "    print(\"Testing Accuracy:\",clf.score(X_test,y_test)*100)\n",
    "    \n",
    "    # If todays data was given will put it into format that can be predicted \n",
    "    today=pd.DataFrame(np.array([volume_curr,curr_open,today_high,today_low,curr_ffr]).reshape(-1,1))\n",
    "    if curr_open != 0:\n",
    "        if clf.predict(today.T)[0] == 1:\n",
    "            print(\"Based off of given data from today the stock will close above opening\")\n",
    "        else:\n",
    "            print(\"Based off of given data from today the stock will close below opening\")\n",
    "            \n",
    "    return clf\n",
    "\n",
    "def stock_prediction_MLP(data, curr_open=0,volume_curr = 0, today_high=0, today_low=0, curr_ffr=0):\n",
    "    #Only Use Current if you want to predict current\n",
    "    \n",
    "    #Spliting into Training and testing datasets\n",
    "    X_train, X_test, y_train, y_test = train_test_split(data.drop(['up/down','Close/Last','Date','month'],axis=1)\n",
    "    , data['up/down'], test_size=0.15, random_state=42)\n",
    "    \n",
    "    # Decision Tree Classifier\n",
    "    clf = tree.DecisionTreeClassifier()\n",
    "    MLPClassifier\n",
    "    # Fitting the training data to the testing data\n",
    "    clf.fit(X_train, y_train)\n",
    "    \n",
    "    # Printing Accuracy of training set\n",
    "    print(\"Testing Accuracy:\",clf.score(X_test,y_test)*100)\n",
    "    \n",
    "    # If todays data was given will put it into format that can be predicted \n",
    "    today=pd.DataFrame(np.array([volume_curr,curr_open,today_high,today_low,curr_ffr]).reshape(-1,1))\n",
    "    if curr_open != 0:\n",
    "        if clf.predict(today.T)[0] == 1:\n",
    "            print(\"Based off of given data from today the stock will close above opening\")\n",
    "        else:\n",
    "            print(\"Based off of given data from today the stock will close below opening\")\n",
    "            \n",
    "    return clf\n",
    "def stock_prediction_P(data, curr_open=0,volume_curr = 0, today_high=0, today_low=0, curr_ffr=0):\n",
    "    #Only Use Current if you want to predict current\n",
    "    \n",
    "    #Spliting into Training and testing datasets\n",
    "    X_train, X_test, y_train, y_test = train_test_split(data.drop(['up/down','Close/Last','Date','month'],axis=1)\n",
    "    , data['up/down'], test_size=0.15, random_state=42)\n",
    "    \n",
    "    # Decision Tree Classifier\n",
    "    clf = tree.DecisionTreeClassifier()\n",
    "    \n",
    "    # Fitting the training data to the testing data\n",
    "    clf.fit(X_train, y_train)\n",
    "    \n",
    "    # Printing Accuracy of training set\n",
    "    print(\"Testing Accuracy:\",clf.score(X_test,y_test)*100)\n",
    "    \n",
    "    # If todays data was given will put it into format that can be predicted \n",
    "    today=pd.DataFrame(np.array([volume_curr,curr_open,today_high,today_low,curr_ffr]).reshape(-1,1))\n",
    "    if curr_open != 0:\n",
    "        if clf.predict(today.T)[0] == 1:\n",
    "            print(\"Based off of given data from today the stock will close above opening\")\n",
    "        else:\n",
    "            print(\"Based off of given data from today the stock will close below opening\")\n",
    "            \n",
    "    return clf\n",
    "def stock_prediction_dt(data, curr_open=0,volume_curr = 0, today_high=0, today_low=0, curr_ffr=0):\n",
    "    #Only Use Current if you want to predict current\n",
    "    \n",
    "    #Spliting into Training and testing datasets\n",
    "    X_train, X_test, y_train, y_test = train_test_split(data.drop(['up/down','Close/Last','Date','month'],axis=1)\n",
    "    , data['up/down'], test_size=0.15, random_state=42)\n",
    "    \n",
    "    # Decision Tree Classifier\n",
    "    clf = tree.DecisionTreeClassifier()\n",
    "    \n",
    "    # Fitting the training data to the testing data\n",
    "    clf.fit(X_train, y_train)\n",
    "    \n",
    "    # Printing Accuracy of training set\n",
    "    print(\"Testing Accuracy:\",clf.score(X_test,y_test)*100)\n",
    "    \n",
    "    # If todays data was given will put it into format that can be predicted \n",
    "    today=pd.DataFrame(np.array([volume_curr,curr_open,today_high,today_low,curr_ffr]).reshape(-1,1))\n",
    "    if curr_open != 0:\n",
    "        if clf.predict(today.T)[0] == 1:\n",
    "            print(\"Based off of given data from today the stock will close above opening\")\n",
    "        else:\n",
    "            print(\"Based off of given data from today the stock will close below opening\")\n",
    "            \n",
    "    return clf"
   ]
  },
  {
   "cell_type": "code",
   "execution_count": null,
   "id": "3650c19a",
   "metadata": {},
   "outputs": [],
   "source": []
  },
  {
   "cell_type": "code",
   "execution_count": 174,
   "id": "66b3d80f",
   "metadata": {},
   "outputs": [
    {
     "name": "stderr",
     "output_type": "stream",
     "text": [
      "C:\\Users\\jrdan\\anaconda3\\lib\\site-packages\\sklearn\\base.py:450: UserWarning: X does not have valid feature names, but DecisionTreeClassifier was fitted with feature names\n",
      "  warnings.warn(\n"
     ]
    },
    {
     "data": {
      "text/plain": [
       "0"
      ]
     },
     "execution_count": 174,
     "metadata": {},
     "output_type": "execute_result"
    }
   ],
   "source": [
    "asl = pd.DataFrame(np.array([11107550,142.240,142.43,139.54,4.57]).reshape(-1,1))\n",
    "clf.predict(asl.T)[0]"
   ]
  },
  {
   "cell_type": "code",
   "execution_count": null,
   "id": "a9729298",
   "metadata": {},
   "outputs": [],
   "source": []
  }
 ],
 "metadata": {
  "kernelspec": {
   "display_name": "Python 3 (ipykernel)",
   "language": "python",
   "name": "python3"
  },
  "language_info": {
   "codemirror_mode": {
    "name": "ipython",
    "version": 3
   },
   "file_extension": ".py",
   "mimetype": "text/x-python",
   "name": "python",
   "nbconvert_exporter": "python",
   "pygments_lexer": "ipython3",
   "version": "3.9.13"
  }
 },
 "nbformat": 4,
 "nbformat_minor": 5
}
